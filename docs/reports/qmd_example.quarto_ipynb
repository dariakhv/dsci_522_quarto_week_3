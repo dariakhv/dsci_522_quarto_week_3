{
  "cells": [
    {
      "cell_type": "markdown",
      "metadata": {},
      "source": [
        "---\n",
        "title: \"DSCI 310: Historical Horse Population in Canada\"\n",
        "author: \"Tiffany Timbers & Jordan Bourak\"\n",
        "format: \n",
        "    html:\n",
        "        toc: true\n",
        "        html-math-method: katex\n",
        "        embed-resources: true\n",
        "    pdf:\n",
        "        toc: true\n",
        "execute:\n",
        "  echo: false\n",
        "editor: source\n",
        "bibiliography: references.bib\n",
        "---"
      ],
      "id": "00746338"
    },
    {
      "cell_type": "code",
      "metadata": {},
      "source": [
        "import pandas as pd\n",
        "from IPython.display import Markdown, display\n",
        "from tabulate import tabulate"
      ],
      "id": "4570ce8f",
      "execution_count": null,
      "outputs": []
    },
    {
      "cell_type": "markdown",
      "metadata": {},
      "source": [
        "# Aim\n",
        "\n",
        "This project explores the historical population of horses in Canada \n",
        "between 1906 and 1972 for each province.\n",
        "\n",
        "# Data\n",
        "\n",
        "Horse population data were sourced from the \n",
        "[Government of Canada's Open Data website](http://open.canada.ca/en/open-data) \n",
        "([@horses1; @horses2]).\n",
        "\n",
        "# Methods\n",
        "\n",
        "The Python programming language ([Van Rossum and Drake 2009, @Python])\n",
        "and the following Python packages were used to perform the analysis: \n",
        "pandas ([McKinney 2010, @pandas]), altair ([VanderPlas 2018, @ altair]), click ([Team 2020, @click]), \n",
        "as well as Quarto ([Allaire et al. 2022, @Allaire_Quarto_2022]). \n",
        "*Note: this report is adapted from Timbers (2020)[@ttimbers-horses].* \n",
        "\n",
        "# Results\n",
        "\n",
        "![Horse populations for all provinces in Canada from 1906 - 1972.](../results/horse_pops_plot.png){fig-horse-pop-all width=70%}\n",
        "\n",
        "\n",
        "\n",
        "We can see from @fig-horse-pop-all that Ontario, Saskatchewan and Alberta \n",
        "have had the highest horse populations in Canada. \n",
        "All provinces have had a decline in horse populations since 1940. \n",
        "This is likely due to the rebound of the Canadian automotive industry \n",
        "after the Great Depression and the Second World War. \n",
        "An interesting follow-up visualisation would be car sales per year \n",
        "for each Province over the time period visualised above \n",
        "to further support this hypothesis.\n",
        "\n",
        "Suppose we were interested in looking in more closely at the province \n",
        "with the highest spread (in terms of standard deviation) of horse populations. \n",
        "We present the standard deviations in @tbl-pop-std.\n"
      ],
      "id": "9b192744"
    },
    {
      "cell_type": "code",
      "metadata": {},
      "source": [
        "#| label: tbl-pop-std\n",
        "#| tbl-cap: Standard deviation of historical (1906-1972) horse populations for each Canadian province.\n"
      ],
      "id": "tbl-pop-std",
      "execution_count": null,
      "outputs": []
    },
    {
      "cell_type": "code",
      "metadata": {},
      "source": [
        "horses_sd_table = pd.read_csv(\"../results/horses_sd.csv\")\n",
        "largest_sd = horses_sd_table['Province'].values[0]\n",
        "Markdown(horses_sd_table.to_markdown(index = False))"
      ],
      "id": "643ec929",
      "execution_count": null,
      "outputs": []
    },
    {
      "cell_type": "markdown",
      "metadata": {},
      "source": [
        "Note that we define standard deviation (of a sample) as\n",
        "\n",
        "$$s = \\sqrt{\\frac{\\sum_{i=1}^N (x_i - \\overline{x})^2}{N-1} }$$\n",
        "\n",
        "Additionally, note that in @tbl-std we consider the sample standard deviation of the number of horses during the same time span as @fig-horse-pop-all.\n",
        "\n",
        "![Horse populations for the province with the largest standard deviation](../results/horse_pops_plot_largest_sd.png){fig-horse-pop-std width=70%}\n",
        "\n",
        "In @fig-horse-pop-std we zoom in and look at the province of `{python} largest_sd`, which had the largest spread of values in terms of standard deviation.\n",
        "\n",
        "### References"
      ],
      "id": "b4d318f4"
    }
  ],
  "metadata": {
    "kernelspec": {
      "name": "531",
      "language": "python",
      "display_name": "Python 531",
      "path": "/Users/daria/Library/Jupyter/kernels/531"
    }
  },
  "nbformat": 4,
  "nbformat_minor": 5
}